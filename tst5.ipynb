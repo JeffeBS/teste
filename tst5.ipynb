{
 "cells": [
  {
   "cell_type": "code",
   "execution_count": 39,
   "id": "17a80382",
   "metadata": {},
   "outputs": [],
   "source": [
    "import pandas as pd\n",
    "import openpyxl\n",
    "import datetime \n",
    "\n",
    "#PGTO=fiscal NFE=prefeitura\n",
    "\n",
    "#mostrar todas as colunas do DataFrame quando der o print\n",
    "pd.set_option('display.max_columns',None)\n",
    "pd.set_option('display.max_rows',None)\n",
    "lista4 = []"
   ]
  },
  {
   "cell_type": "code",
   "execution_count": 49,
   "id": "d2356cc0",
   "metadata": {},
   "outputs": [],
   "source": [
    "df_prefeitura = pd.read_csv(r\"eggs.csv\", sep=\";\", encoding='unicode_escape')"
   ]
  },
  {
   "cell_type": "code",
   "execution_count": 43,
   "id": "dd50733f",
   "metadata": {
    "scrolled": true
   },
   "outputs": [
    {
     "name": "stdout",
     "output_type": "stream",
     "text": [
      "['Tipo de Registro;Nº da Nota Fiscal Eletrônica;Status da Nota Fiscal;Código de Verificação NF;Data Hora da Emissão da Nota Fiscal;Tipo de RPS/Nota Convencional;Série do RPS/Nota Convencional;Número do RPS/Nota Convencional;Data de Emissão do RPS/Nota Convencional;Indicador de CPF/CNPJ do Prestador;CPF/CNPJ do Prestador;Inscrição Municipal do Prestador;Inscrição Estadual do Prestador;Razão Social do Prestador;Nome Fantasia do Prestador;Tipo do Endereço do Prestador;Endereço do Prestador;Número do Endereço do Prestador;Complemento do Endereço do Prestador;Bairro do Prestador;Cidade do Prestador;UF do Prestador;CEP do Prestador;Telefone de Contato do Prestador;Email do Prestador;Indicador de CPF/CNPJ do Tomador;CPF/CNPJ do Tomador;Inscrição Municipal do Tomador;Inscrição Estadual do Tomador;Razão Social do Tomador;Tipo do Endereço do Tomador;Endereço do Tomador;Número do Endereço do Tomador;Complemento do Endereço do Tomador;Bairro do Tomador;Cidade do Tomador;UF do Tomador;CEP do Tomador;Telefone de Contato do Tomador;Email do Tomador;Tipo de Tributação de Serviços;Cidade de Prestação de Serviços;UF de Prestação de Serviços;Regime Especial de Tributação;Opção Pelo Simples;Incentivo_Cultural;Código de Atividade Federal;Código do Benefício Fiscal;Código de Atividade Municipal;Alíquota;Valor dos Serviços;Valor das Deduções;Valor do Desconto Condicionado;Valor do Desconto Incondicionado;Valor COFINS;Valor CSLL;Valor INSS;Valor IRPJ;Valor PIS/PASEP;Valor de Outras Retenções Federais;Valor do ISS;Valor do Crédito;ISS Retido;Data de Cancelamento;Data de Competência;Nº da Guia;Data da Quitação da Guia vinculada;Lote;CNO / Código da Obra;ART;Nº Nota Fiscal Substituída;Nº Nota Fiscal Substituta;Discriminação dos Serviços']\n",
      "['20;576;1;RG5QKRHC;05/09/2022 15:34;0;;969;31/08/2022;2;68.572.056/0001-54;0.102.458-2;;SHALLOM ADMINISTRACAO E CORRETAGEM DE SEGUROS LTDA;SHALLOM;RUA;DA QUITANDA;19;SAL 302 SAL 312 SAL 303 SAL 31;CENTRO;RIO DE JANEIRO;RJ;20011-030;3553 4061;CMG@FOURUNIONS.COM.BR;2;51.990.695/0035-86;0.013.939-4;;BRADESCO VIDA E PREVIDENCIA SA;PRC;PIO X;79;3 E 4 ANDAR;CENTRO;RIO DE JANEIRO;RJ;20040-020;;;1;RIO DE JANEIRO;RJ;0;1;0;1701;;170101;3', '73;37', '4;0;0;0;0;0;0;0;0;0;1', '39;0;1;;01/09/2022;;;0;;;0;0;PRESTAÇAO DE SERVIÇOS DE ASSESSORIA/r/nE CONSULTORIA DE SEGUROS REFERENTE AO MES AGOSTO DE 2022']\n",
      "['20;2216;1;H8CWHUVJ;08/09/2022 10:44;0;;;;2;40.158.172/0001-02;0.103.081-7;;PLATAFORMA ADMINISTRACAO E CORRETAGEM DE SEGUROS LTDA;PLATAFORMA ASSESSORIA DE SEGUROS;RUA;DA QUITANDA;62;SAL 501 502 503 603;CENTRO;RIO DE JANEIRO;RJ;20011-030;21056253;financeiro@plataformaseguros.com.br;2;51.990.695/0035-86;0.013.939-4;;BRADESCO VIDA E PREVIDENCIA SA;PRC;PIO X;79;3 E 4 ANDAR;CENTRO;RIO DE JANEIRO;RJ;20040-020;;;1;RIO DE JANEIRO;RJ;0;0;0;1701;;170101;5;22', '08;0;0;0;0;0;0;0;0;0;1', '1;0;1;;01/10/2022;;;0;;;0;0;Prestação de serviços no mês de agosto/2022']\n",
      "['20;875;1;DJ915DY9;01/09/2022 08:40;0;;;;2;42.596.288/0001-59;0.227.167-2;;FALCAO ASSESSORIA E CORRETAGEM DE SEGUROS LTDA;Falcao Assessoria e Corretagem de Seguros Ltda;RUA;DES IZIDRO;40;SAL 505;TIJUCA;RIO DE JANEIRO;RJ;20521-160;212509-3442;falcao.corretora@hotmail.com;2;51.990.695/0035-86;0.013.939-4;;BRADESCO VIDA E PREVIDENCIA SA;PRC;PIO X;79;3 E 4 ANDAR;CENTRO;RIO DE JANEIRO;RJ;20040-020;;;1;RIO DE JANEIRO;RJ;0;1;0;1001;;100106;2', '79;124', '43;0;0;0;0;0;0;0;0;0;3', '47;0;1;;01/10/2022;;;0;;;0;0;Comissão Corretagem: REFERENTE A COMPETENCIA AGOSTO 2022 = R$ 124', '43||Empresa optante pelo Simples Nacional 2', '79% (valor aproximado dos impostos(R$ 0', '43)= R$ 120', '96||EXTRATO DE PAGAMENTO-FATURAS 5637413 5756745- SUCURSAL 613 RIO DE JANEIRO MERCADO']\n",
      "['20;2886;1;LTIDHDRX;12/09/2022 13:25;0;;;;2;08.290.396/0001-60;0.398.507-5;;DESENVOLVIMENTO ADMINISTRADORA E CORRETORA DE SEGUROS LTDA;DESENVOLVIMENTO;AVN;RIO BRANCO;124;PAV 9 PAV 10 PAV 11;CENTRO;RIO DE JANEIRO;RJ;20040-916;21789324;DIRETORIA@CDSASSESSORIA.COM.BR;2;51.990.695/0035-86;0.013.939-4;;BRADESCO VIDA E PREVIDENCIA SA;PRC;PIO X;79;3 E 4 ANDAR;CENTRO;RIO DE JANEIRO;RJ;20040-020;;;1;RIO DE JANEIRO;RJ;0;0;0;1701;;170101;5;262', '28;0;0;0;0;0;0;0;0;0;13', '11;0;1;;01/10/2022;;;0;;;0;0;prestação de serviços/r/n referente a agosto de 2022']\n",
      "['20;2513;1;FJJRYJ1U;01/09/2022 10:33;0;;;;2;14.072.614/0001-93;0.520.170-5;;QUALIVIDA CORRETORA DE SEGUROS LTDA ME;;RUA;BUENOS AIRES;70;PAV 4;CENTRO;RIO DE JANEIRO;RJ;20070-022;(21) 3165-3;financeiro@qpcorretora.com;2;51.990.695/0035-86;0.013.939-4;;BRADESCO VIDA E PREVIDENCIA SA;PRC;PIO X;79;3 E 4 ANDAR;CENTRO;RIO DE JANEIRO;RJ;20040-020;;;1;RIO DE JANEIRO;RJ;0;1;0;1001;;100104;4', '44;280', '79;0;0;0;0;0;0;0;0;0;12', '46;0;1;;01/10/2022;;;0;;;0;0;Comissões referente a corretagem de seguros de vida e previdência.|Competência: AGOSTO/2022|Valor: R$ 280', '79']\n",
      "['20;17;1;KEQJTPP9;06/09/2022 12:17;0;;14;31/08/2022;2;36.253.831/0001-12;1.228.886-7;;L M SOUZA CORRETORA DE SEGUROS LTDA;MUNIZ E THOMPSON CORRETORA DE SEGU;AVN;PROF PLINIO BASTOS;205;;OLARIA;RIO DE JANEIRO;RJ;21021-350;21992448397;MUNIZEMPREENDEDOR@GMAIL.COM;2;51.990.695/0035-86;0.013.939-4;;BRADESCO VIDA E PREVIDENCIA SA;PRC;PIO X;79;3 E 4 ANDAR;CENTRO;RIO DE JANEIRO;RJ;20040-020;;;1;RIO DE JANEIRO;RJ;0;1;0;1801;;180105;5;4.848', '60;0;0;0;0;0;0;0;0;0;242', '43;0;1;;01/09/2022;;;0;;;0;0;Comissão corretagem de seguros']\n",
      "['Total;6;;;;;;;;;;;;;;;;;;;;;;;;;;;;;;;;;;;;;;;;;;;;;;;;;5.575', '58;0;0;0;0;0;0;0;0;0;273', '96;0;;;;;;;;;;;']\n"
     ]
    }
   ],
   "source": [
    "import csv\n",
    "\n",
    "arquivo = open('tst1.csv')\n",
    "\n",
    "linhas = csv.reader(arquivo)\n",
    "lista = []\n",
    "lista2 = []\n",
    "for linha in linhas:\n",
    "    print(linha)\n",
    "    lista = []\n",
    "    str = linha[0]\n",
    "    str.replace('/r/n','')\n",
    "    lista = [str]\n",
    "    func(lista)\n",
    "   \n",
    "    "
   ]
  },
  {
   "cell_type": "code",
   "execution_count": 40,
   "id": "0aeb4c45",
   "metadata": {},
   "outputs": [],
   "source": [
    "\n",
    "def func(umalista):\n",
    "    lista4.append(umalista)"
   ]
  },
  {
   "cell_type": "code",
   "execution_count": 42,
   "id": "dbc5867a",
   "metadata": {
    "scrolled": true
   },
   "outputs": [
    {
     "data": {
      "text/plain": [
       "[['Tipo de Registro;Nº da Nota Fiscal Eletrônica;Status da Nota Fiscal;Código de Verificação NF;Data Hora da Emissão da Nota Fiscal;Tipo de RPS/Nota Convencional;Série do RPS/Nota Convencional;Número do RPS/Nota Convencional;Data de Emissão do RPS/Nota Convencional;Indicador de CPF/CNPJ do Prestador;CPF/CNPJ do Prestador;Inscrição Municipal do Prestador;Inscrição Estadual do Prestador;Razão Social do Prestador;Nome Fantasia do Prestador;Tipo do Endereço do Prestador;Endereço do Prestador;Número do Endereço do Prestador;Complemento do Endereço do Prestador;Bairro do Prestador;Cidade do Prestador;UF do Prestador;CEP do Prestador;Telefone de Contato do Prestador;Email do Prestador;Indicador de CPF/CNPJ do Tomador;CPF/CNPJ do Tomador;Inscrição Municipal do Tomador;Inscrição Estadual do Tomador;Razão Social do Tomador;Tipo do Endereço do Tomador;Endereço do Tomador;Número do Endereço do Tomador;Complemento do Endereço do Tomador;Bairro do Tomador;Cidade do Tomador;UF do Tomador;CEP do Tomador;Telefone de Contato do Tomador;Email do Tomador;Tipo de Tributação de Serviços;Cidade de Prestação de Serviços;UF de Prestação de Serviços;Regime Especial de Tributação;Opção Pelo Simples;Incentivo_Cultural;Código de Atividade Federal;Código do Benefício Fiscal;Código de Atividade Municipal;Alíquota;Valor dos Serviços;Valor das Deduções;Valor do Desconto Condicionado;Valor do Desconto Incondicionado;Valor COFINS;Valor CSLL;Valor INSS;Valor IRPJ;Valor PIS/PASEP;Valor de Outras Retenções Federais;Valor do ISS;Valor do Crédito;ISS Retido;Data de Cancelamento;Data de Competência;Nº da Guia;Data da Quitação da Guia vinculada;Lote;CNO / Código da Obra;ART;Nº Nota Fiscal Substituída;Nº Nota Fiscal Substituta;Discriminação dos Serviços'],\n",
       " ['20;576;1;RG5QKRHC;05/09/2022 15:34;0;;969;31/08/2022;2;68.572.056/0001-54;0.102.458-2;;SHALLOM ADMINISTRACAO E CORRETAGEM DE SEGUROS LTDA;SHALLOM;RUA;DA QUITANDA;19;SAL 302 SAL 312 SAL 303 SAL 31;CENTRO;RIO DE JANEIRO;RJ;20011-030;3553 4061;CMG@FOURUNIONS.COM.BR;2;51.990.695/0035-86;0.013.939-4;;BRADESCO VIDA E PREVIDENCIA SA;PRC;PIO X;79;3 E 4 ANDAR;CENTRO;RIO DE JANEIRO;RJ;20040-020;;;1;RIO DE JANEIRO;RJ;0;1;0;1701;;170101;3'],\n",
       " ['20;2216;1;H8CWHUVJ;08/09/2022 10:44;0;;;;2;40.158.172/0001-02;0.103.081-7;;PLATAFORMA ADMINISTRACAO E CORRETAGEM DE SEGUROS LTDA;PLATAFORMA ASSESSORIA DE SEGUROS;RUA;DA QUITANDA;62;SAL 501 502 503 603;CENTRO;RIO DE JANEIRO;RJ;20011-030;21056253;financeiro@plataformaseguros.com.br;2;51.990.695/0035-86;0.013.939-4;;BRADESCO VIDA E PREVIDENCIA SA;PRC;PIO X;79;3 E 4 ANDAR;CENTRO;RIO DE JANEIRO;RJ;20040-020;;;1;RIO DE JANEIRO;RJ;0;0;0;1701;;170101;5;22'],\n",
       " ['20;875;1;DJ915DY9;01/09/2022 08:40;0;;;;2;42.596.288/0001-59;0.227.167-2;;FALCAO ASSESSORIA E CORRETAGEM DE SEGUROS LTDA;Falcao Assessoria e Corretagem de Seguros Ltda;RUA;DES IZIDRO;40;SAL 505;TIJUCA;RIO DE JANEIRO;RJ;20521-160;212509-3442;falcao.corretora@hotmail.com;2;51.990.695/0035-86;0.013.939-4;;BRADESCO VIDA E PREVIDENCIA SA;PRC;PIO X;79;3 E 4 ANDAR;CENTRO;RIO DE JANEIRO;RJ;20040-020;;;1;RIO DE JANEIRO;RJ;0;1;0;1001;;100106;2'],\n",
       " ['20;2886;1;LTIDHDRX;12/09/2022 13:25;0;;;;2;08.290.396/0001-60;0.398.507-5;;DESENVOLVIMENTO ADMINISTRADORA E CORRETORA DE SEGUROS LTDA;DESENVOLVIMENTO;AVN;RIO BRANCO;124;PAV 9 PAV 10 PAV 11;CENTRO;RIO DE JANEIRO;RJ;20040-916;21789324;DIRETORIA@CDSASSESSORIA.COM.BR;2;51.990.695/0035-86;0.013.939-4;;BRADESCO VIDA E PREVIDENCIA SA;PRC;PIO X;79;3 E 4 ANDAR;CENTRO;RIO DE JANEIRO;RJ;20040-020;;;1;RIO DE JANEIRO;RJ;0;0;0;1701;;170101;5;262'],\n",
       " ['20;2513;1;FJJRYJ1U;01/09/2022 10:33;0;;;;2;14.072.614/0001-93;0.520.170-5;;QUALIVIDA CORRETORA DE SEGUROS LTDA ME;;RUA;BUENOS AIRES;70;PAV 4;CENTRO;RIO DE JANEIRO;RJ;20070-022;(21) 3165-3;financeiro@qpcorretora.com;2;51.990.695/0035-86;0.013.939-4;;BRADESCO VIDA E PREVIDENCIA SA;PRC;PIO X;79;3 E 4 ANDAR;CENTRO;RIO DE JANEIRO;RJ;20040-020;;;1;RIO DE JANEIRO;RJ;0;1;0;1001;;100104;4'],\n",
       " ['20;17;1;KEQJTPP9;06/09/2022 12:17;0;;14;31/08/2022;2;36.253.831/0001-12;1.228.886-7;;L M SOUZA CORRETORA DE SEGUROS LTDA;MUNIZ E THOMPSON CORRETORA DE SEGU;AVN;PROF PLINIO BASTOS;205;;OLARIA;RIO DE JANEIRO;RJ;21021-350;21992448397;MUNIZEMPREENDEDOR@GMAIL.COM;2;51.990.695/0035-86;0.013.939-4;;BRADESCO VIDA E PREVIDENCIA SA;PRC;PIO X;79;3 E 4 ANDAR;CENTRO;RIO DE JANEIRO;RJ;20040-020;;;1;RIO DE JANEIRO;RJ;0;1;0;1801;;180105;5;4.848'],\n",
       " ['Total;6;;;;;;;;;;;;;;;;;;;;;;;;;;;;;;;;;;;;;;;;;;;;;;;;;5.575']]"
      ]
     },
     "execution_count": 42,
     "metadata": {},
     "output_type": "execute_result"
    }
   ],
   "source": [
    "lista4"
   ]
  },
  {
   "cell_type": "code",
   "execution_count": 48,
   "id": "cc9f5c78",
   "metadata": {},
   "outputs": [],
   "source": [
    "with open('eggs.csv', 'w', newline='') as csvfile:\n",
    "    spamwriter = csv.writer(csvfile, delimiter=';')\n",
    "    for i in lista4:\n",
    "        spamwriter.writerow(i)"
   ]
  }
 ],
 "metadata": {
  "kernelspec": {
   "display_name": "Python 3 (ipykernel)",
   "language": "python",
   "name": "python3"
  },
  "language_info": {
   "codemirror_mode": {
    "name": "ipython",
    "version": 3
   },
   "file_extension": ".py",
   "mimetype": "text/x-python",
   "name": "python",
   "nbconvert_exporter": "python",
   "pygments_lexer": "ipython3",
   "version": "3.9.12"
  },
  "vscode": {
   "interpreter": {
    "hash": "35b70ef4da254774023bd680c57f830bf180408848c16a1599f5aa9639b60907"
   }
  }
 },
 "nbformat": 4,
 "nbformat_minor": 5
}
